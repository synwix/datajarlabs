{
 "cells": [
  {
   "cell_type": "markdown",
   "metadata": {},
   "source": [
    "Evin büyüklüğü veri alındığında, evin fiyatını tahmin etmek\n",
    "    -Regression\n",
    "\n",
    "Eve bakmaya gelenlerin kıyafetlerinden, kimin evi satın alma ihtimalinin yüksek veya düşük olduğu sonucuna varmak\n",
    "    -Classification\n",
    "\n",
    "Lokasyon ve tarih gibi parametreleri kullanarak, yağmur yağma ihtimalini hesaplamak\n",
    "    -Regression\n",
    "\n",
    "Eğitim, tecrübe gibi parametreleri kullanarak, kişinin maaşını tahmin etmek\n",
    "    -Regression\n",
    "\n",
    "Bir insanın yaşının tahmin edilmesi\n",
    "    -Regression\n",
    "\n",
    "Bir insanın gelirinin tahmin edilmesi\n",
    "    -Regression\n",
    "\n",
    "Herhangi bir hisse senedinin fiyatının yönünün tahmin edilmesi\n",
    "    -Classification"
   ]
  }
 ],
 "metadata": {
  "kernelspec": {
   "display_name": "Python 3",
   "language": "python",
   "name": "python3"
  },
  "language_info": {
   "codemirror_mode": {
    "name": "ipython",
    "version": 3
   },
   "file_extension": ".py",
   "mimetype": "text/x-python",
   "name": "python",
   "nbconvert_exporter": "python",
   "pygments_lexer": "ipython3",
   "version": "3.7.7"
  }
 },
 "nbformat": 4,
 "nbformat_minor": 4
}
