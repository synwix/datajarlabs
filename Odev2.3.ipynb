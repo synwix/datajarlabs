{
 "cells": [
  {
   "cell_type": "code",
   "execution_count": 7,
   "metadata": {},
   "outputs": [
    {
     "name": "stdout",
     "output_type": "stream",
     "text": [
      "{'1': 'Pazartesi', '2': 'Sali', '3': 'Carsamba', '4': 'Persembe', '5': 'Cuma', '6': 'Cumartesi', '7': 'Pazar'}\n",
      "Silinecek Gunun Rakamini Giriniz: 1\n",
      "{'2': 'Sali', '3': 'Carsamba', '4': 'Persembe', '5': 'Cuma', '6': 'Cumartesi', '7': 'Pazar'}\n"
     ]
    }
   ],
   "source": [
    "gunler = {'1': \"Pazartesi\",'2' : \"Sali\",'3' : \"Carsamba\",'4' : \"Persembe\", '5' : \"Cuma\", '6' : \"Cumartesi\", '7' : \"Pazar\"}\n",
    "print(gunler)\n",
    "gunSil = input('Silinecek Gunun Rakamini Giriniz: ')\n",
    "for char in gunSil:\n",
    "    del gunler[char]\n",
    "print(gunler)"
   ]
  },
  {
   "cell_type": "code",
   "execution_count": 10,
   "metadata": {},
   "outputs": [
    {
     "name": "stdout",
     "output_type": "stream",
     "text": [
      "[['ocak', 31], ['subat', 29], ['mart', 31], ['nisan', 31], ['mayis', 31], ['haziran', 30], ['temmuz', 31], ['agustos', 31], ['eylul', 30], ['ekim', 31], ['kasim', 30], ['aralik', 31]]\n"
     ]
    }
   ],
   "source": [
    "aylar = [[\"ocak\",31],[\"subat\",29],[\"mart\",31],[\"nisan\",31],[\"mayis\",31],[\"haziran\",30],[\"temmuz\",31],[\"agustos\",31],[\"eylul\",30],[\"ekim\",31],[\"kasim\",30],[\"aralik\",31]]\n",
    "print(aylar)"
   ]
  },
  {
   "cell_type": "code",
   "execution_count": 11,
   "metadata": {},
   "outputs": [
    {
     "name": "stdout",
     "output_type": "stream",
     "text": [
      "[['ocak', 31], ['subat', 29], ['mart', 31], ['nisan', 31], ['mayis', 31], ['haziran', 30], ['temmuz', 31], ['agustos', 31], ['eylul', 30], ['ekim', 31], ['kasim', 30], ['aralik', 31]]\n"
     ]
    }
   ],
   "source": [
    "aylar = [[\"ocak\",31],[\"subat\",29],[\"mart\",31],[\"nisan\",31],[\"mayis\",31],[\"haziran\",30],[\"temmuz\",31],[\"agustos\",31],[\"eylul\",30],[\"ekim\",31],[\"kasim\",30],[\"aralik\",31]]\n",
    "print(aylar)"
   ]
  },
  {
   "cell_type": "code",
   "execution_count": 12,
   "metadata": {},
   "outputs": [
    {
     "name": "stdout",
     "output_type": "stream",
     "text": [
      "[['Mart', 'Nisan', 'Mayıs'], ['Haziran', 'Temmuz', 'Ağustos'], ['Eylül', 'Ekim', 'Kasım'], ['Aralık', 'Ocak', 'Şubat']]\n"
     ]
    }
   ],
   "source": [
    "ilkbahar = ['Mart', 'Nisan', 'Mayıs']\n",
    "yaz = ['Haziran', 'Temmuz','Ağustos']\n",
    "sonbahar = ['Eylül', 'Ekim', 'Kasım']\n",
    "kış = ['Aralık', 'Ocak', 'Şubat']\n",
    "mevsim_ayları = [ilkbahar, yaz, sonbahar, kış]\n",
    "print(mevsim_ayları)"
   ]
  },
  {
   "cell_type": "code",
   "execution_count": 17,
   "metadata": {},
   "outputs": [
    {
     "name": "stdout",
     "output_type": "stream",
     "text": [
      "92\n"
     ]
    }
   ],
   "source": [
    "gunsayisi = 0 + aylar[5][1]+aylar[6][1]+aylar[7][1]\n",
    "print(gunsayisi)"
   ]
  },
  {
   "cell_type": "code",
   "execution_count": null,
   "metadata": {},
   "outputs": [],
   "source": []
  }
 ],
 "metadata": {
  "kernelspec": {
   "display_name": "Python 3",
   "language": "python",
   "name": "python3"
  },
  "language_info": {
   "codemirror_mode": {
    "name": "ipython",
    "version": 3
   },
   "file_extension": ".py",
   "mimetype": "text/x-python",
   "name": "python",
   "nbconvert_exporter": "python",
   "pygments_lexer": "ipython3",
   "version": "3.7.7"
  }
 },
 "nbformat": 4,
 "nbformat_minor": 4
}
