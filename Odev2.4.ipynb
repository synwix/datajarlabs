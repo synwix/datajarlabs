{
 "cells": [
  {
   "cell_type": "code",
   "execution_count": 22,
   "metadata": {},
   "outputs": [
    {
     "name": "stdout",
     "output_type": "stream",
     "text": [
      "Sicaklik Degerini Giriniz: 40C\n",
      "104.0\n"
     ]
    }
   ],
   "source": [
    "deger = input('Sicaklik Degerini Giriniz: ')\n",
    "i = len(deger)\n",
    "intDeger = deger[0:-1]\n",
    "intDeger = int(intDeger)\n",
    "if(deger[i-1]=='F'):\n",
    "    sonuc = (5/9) * (intDeger - 32)\n",
    "else:\n",
    "    sonuc = (intDeger * (9/5)) + 32\n",
    "print(sonuc)"
   ]
  },
  {
   "cell_type": "code",
   "execution_count": 26,
   "metadata": {},
   "outputs": [
    {
     "name": "stdout",
     "output_type": "stream",
     "text": [
      "Kelime Giriniz: elma\n",
      "amle\n"
     ]
    }
   ],
   "source": [
    "str = input('Kelime Giriniz: ')\n",
    "newstr = \"\"\n",
    "for char in str:\n",
    "    newstr = char + newstr\n",
    "print(newstr)"
   ]
  },
  {
   "cell_type": "code",
   "execution_count": 32,
   "metadata": {},
   "outputs": [
    {
     "name": "stdout",
     "output_type": "stream",
     "text": [
      "[1, 1, 2, 3, 5, 8, 13, 21, 34, 55, 89, 144, 233, 377, 610, 987, 1597, 2584, 4181, 6765, 10946, 17711, 28657, 46368, 75025, 121393, 196418, 317811, 514229, 832040, 1346269, 2178309, 3524578, 5702887, 9227465, 14930352, 24157817, 39088169, 63245986, 102334155, 165580141, 267914296, 433494437, 701408733, 1134903170, 1836311903, 2971215073, 4807526976, 7778742049]\n"
     ]
    }
   ],
   "source": [
    "fib1 = 1\n",
    "fib2 = 1\n",
    "liste=[1,1]\n",
    "for i in range(3,50):\n",
    "    listelen = len(liste)\n",
    "    liste.append(liste[listelen-1]+liste[listelen-2])\n",
    "print(liste)"
   ]
  },
  {
   "cell_type": "code",
   "execution_count": 47,
   "metadata": {},
   "outputs": [
    {
     "name": "stdout",
     "output_type": "stream",
     "text": [
      "Carpim Tablosunu Istediginiz Sayiyi Giriniz: 6\n",
      "6 * 1 = 6\n",
      "6 * 2 = 12\n",
      "6 * 3 = 18\n",
      "6 * 4 = 24\n",
      "6 * 5 = 30\n",
      "6 * 6 = 36\n",
      "6 * 7 = 42\n",
      "6 * 8 = 48\n",
      "6 * 9 = 54\n",
      "6 * 10 = 60\n"
     ]
    }
   ],
   "source": [
    "sayi = input('Carpim Tablosunu Istediginiz Sayiyi Giriniz: ')\n",
    "for i in range(1,11):\n",
    "    print(\"{} * {} = {}\".format(sayi,i,int(sayi) * i))"
   ]
  },
  {
   "cell_type": "code",
   "execution_count": 48,
   "metadata": {},
   "outputs": [
    {
     "name": "stdout",
     "output_type": "stream",
     "text": [
      "[1, 8, 9, 64, 25, 216, 49, 512, 81, 1000, 121, 1728, 169, 2744, 225, 4096, 289, 5832, 361, 8000]\n"
     ]
    }
   ],
   "source": [
    "liste = [x**3 if x % 2 == 0 else x**2 for x in range(1,21)]\n",
    "print(liste)"
   ]
  }
 ],
 "metadata": {
  "kernelspec": {
   "display_name": "Python 3",
   "language": "python",
   "name": "python3"
  },
  "language_info": {
   "codemirror_mode": {
    "name": "ipython",
    "version": 3
   },
   "file_extension": ".py",
   "mimetype": "text/x-python",
   "name": "python",
   "nbconvert_exporter": "python",
   "pygments_lexer": "ipython3",
   "version": "3.7.7"
  }
 },
 "nbformat": 4,
 "nbformat_minor": 4
}
