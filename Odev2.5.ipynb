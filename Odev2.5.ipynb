{
 "cells": [
  {
   "cell_type": "code",
   "execution_count": 10,
   "metadata": {},
   "outputs": [
    {
     "ename": "FileNotFoundError",
     "evalue": "[Errno 2] No such file or directory: 'siir.txt'",
     "output_type": "error",
     "traceback": [
      "\u001b[1;31m---------------------------------------------------------------------------\u001b[0m",
      "\u001b[1;31mFileNotFoundError\u001b[0m                         Traceback (most recent call last)",
      "\u001b[1;32m<ipython-input-10-395d11e3505b>\u001b[0m in \u001b[0;36m<module>\u001b[1;34m\u001b[0m\n\u001b[0;32m      1\u001b[0m \u001b[1;31m#f = open(\"siir.txt\", \"r\")\u001b[0m\u001b[1;33m\u001b[0m\u001b[1;33m\u001b[0m\u001b[1;33m\u001b[0m\u001b[0m\n\u001b[0;32m      2\u001b[0m \u001b[0mcount\u001b[0m \u001b[1;33m=\u001b[0m \u001b[1;36m0\u001b[0m\u001b[1;33m\u001b[0m\u001b[1;33m\u001b[0m\u001b[0m\n\u001b[1;32m----> 3\u001b[1;33m \u001b[1;32mwith\u001b[0m \u001b[0mopen\u001b[0m\u001b[1;33m(\u001b[0m\u001b[1;34m\"siir.txt\"\u001b[0m\u001b[1;33m,\u001b[0m \u001b[1;34m'r'\u001b[0m\u001b[1;33m)\u001b[0m \u001b[1;32mas\u001b[0m \u001b[0mf\u001b[0m\u001b[1;33m:\u001b[0m\u001b[1;33m\u001b[0m\u001b[1;33m\u001b[0m\u001b[0m\n\u001b[0m\u001b[0;32m      4\u001b[0m     \u001b[1;32mfor\u001b[0m \u001b[0mline\u001b[0m \u001b[1;32min\u001b[0m \u001b[0mf\u001b[0m\u001b[1;33m:\u001b[0m\u001b[1;33m\u001b[0m\u001b[1;33m\u001b[0m\u001b[0m\n\u001b[0;32m      5\u001b[0m         \u001b[0mcount\u001b[0m \u001b[1;33m+=\u001b[0m \u001b[1;36m1\u001b[0m\u001b[1;33m\u001b[0m\u001b[1;33m\u001b[0m\u001b[0m\n",
      "\u001b[1;31mFileNotFoundError\u001b[0m: [Errno 2] No such file or directory: 'siir.txt'"
     ]
    }
   ],
   "source": [
    "count = 0\n",
    "with open(\"siir.txt\", 'r') as f:\n",
    "    for line in f:\n",
    "        count += 1\n",
    "print(\"Satir sayisi: \", count)"
   ]
  },
  {
   "cell_type": "code",
   "execution_count": 49,
   "metadata": {},
   "outputs": [
    {
     "name": "stdout",
     "output_type": "stream",
     "text": [
      "Sayi asal.\n"
     ]
    }
   ],
   "source": [
    "def asal(sayi):\n",
    "    if(sayi==2):\n",
    "        print(\"Sayi asal.\")\n",
    "        return\n",
    "    \n",
    "    for i in range(2,sayi):\n",
    "        if(sayi%i==0):\n",
    "            print(\"Sayi asal degil.\")\n",
    "            return\n",
    "    print(\"Sayi asal.\")\n",
    "asal(97)"
   ]
  },
  {
   "cell_type": "code",
   "execution_count": 53,
   "metadata": {},
   "outputs": [
    {
     "name": "stdout",
     "output_type": "stream",
     "text": [
      "[1, 2, 3, 4]\n"
     ]
    }
   ],
   "source": [
    "def fonksiyon(liste):\n",
    "    yeniliste = []\n",
    "    for i in range(len(liste)):\n",
    "        if liste[i] in yeniliste:\n",
    "            continue\n",
    "        else:\n",
    "            yeniliste.append(liste[i])\n",
    "    return yeniliste\n",
    "            \n",
    "deneme = [1,2,2,3,3,4,4]\n",
    "yenideneme = fonksiyon(deneme)\n",
    "print(yenideneme)"
   ]
  },
  {
   "cell_type": "code",
   "execution_count": 60,
   "metadata": {},
   "outputs": [
    {
     "name": "stdout",
     "output_type": "stream",
     "text": [
      "19 yasindasiniz\n"
     ]
    }
   ],
   "source": [
    "from datetime import date \n",
    "def yasHesapla(born): \n",
    "    today = date.today() \n",
    "    try:  \n",
    "        birthday = born.replace(year = today.year)\n",
    "    except ValueError:  \n",
    "        birthday = born.replace(year = today.year, month = born.month + 1, day = 1) \n",
    "  \n",
    "    if birthday > today: \n",
    "        return today.year - born.year - 1\n",
    "    else: \n",
    "        return today.year - born.year  \n",
    "print(yasHesapla(date(2000, 4, 3)), \"yasindasiniz\") "
   ]
  },
  {
   "cell_type": "code",
   "execution_count": null,
   "metadata": {},
   "outputs": [],
   "source": []
  }
 ],
 "metadata": {
  "kernelspec": {
   "display_name": "Python 3",
   "language": "python",
   "name": "python3"
  },
  "language_info": {
   "codemirror_mode": {
    "name": "ipython",
    "version": 3
   },
   "file_extension": ".py",
   "mimetype": "text/x-python",
   "name": "python",
   "nbconvert_exporter": "python",
   "pygments_lexer": "ipython3",
   "version": "3.7.7"
  }
 },
 "nbformat": 4,
 "nbformat_minor": 4
}
